{
 "cells": [
  {
   "cell_type": "code",
   "execution_count": null,
   "metadata": {
    "collapsed": false
   },
   "outputs": [],
   "source": [
    "import sys\n",
    "# Assuming we are in the notebook directory add this so that we can import the library\n",
    "sys.path.append('..')\n",
    "\n",
    "import time\n",
    "\n",
    "import numpy as np\n",
    "from abcpy.core import *\n",
    "from abcpy.distributions import *\n",
    "from abcpy.methods import Rejection\n",
    "from dask.dot import dot_graph\n",
    "from functools import partial\n",
    "\n",
    "import matplotlib\n",
    "import matplotlib.pyplot as plt\n",
    "\n",
    "matplotlib.style.use('ggplot')\n",
    "%matplotlib inline\n"
   ]
  },
  {
   "cell_type": "code",
   "execution_count": null,
   "metadata": {
    "collapsed": true
   },
   "outputs": [],
   "source": [
    "def MA2(n, t1, t2, prng=None, latents=None):\n",
    "    if latents is None:\n",
    "        if prng is None:\n",
    "            prng = np.random.RandomState()\n",
    "        latents = prng.randn(n+2) # i.i.d. sequence ~ N(0,1)\n",
    "    u = latents\n",
    "    y = u[2:] + t1 * u[1:-1] + t2 * u[:-2]\n",
    "    return y\n",
    "\n",
    "def autocov(lag, y):\n",
    "    y = (y - np.mean(y, axis=1, keepdims=True)) / np.var(y, axis=1, keepdims=True)\n",
    "    tau = np.sum(y[:,lag:] * y[:,:-lag], axis=1, keepdims=True)\n",
    "    return tau\n",
    "\n",
    "def distance(x, y):\n",
    "    d = np.linalg.norm( np.array(x) - np.array(y), ord=2, axis=0)\n",
    "    return d\n"
   ]
  },
  {
   "cell_type": "code",
   "execution_count": null,
   "metadata": {
    "collapsed": false
   },
   "outputs": [],
   "source": [
    "n = 100\n",
    "t1 = 0.6\n",
    "t2 = 0.2\n",
    "\n",
    "# Set up observed data y\n",
    "latents = np.random.randn(n+2)\n",
    "y = MA2(n, t1, t2, latents=latents)\n",
    "\n",
    "# Plot\n",
    "plt.figure(figsize=(11, 6));\n",
    "plt.plot(np.arange(0,n),y);\n",
    "plt.scatter(np.arange(-2,n), latents);\n"
   ]
  },
  {
   "cell_type": "code",
   "execution_count": null,
   "metadata": {
    "collapsed": false
   },
   "outputs": [],
   "source": [
    "# Set up the simulator\n",
    "simulator = partial(MA2, n)\n",
    "\n",
    "# Set up autocovariance summaries\n",
    "ac1 = partial(autocov, 1)\n",
    "ac2 = partial(autocov, 2)\n",
    "\n",
    "# Specify the graphical model\n",
    "t1 = Prior('t1', 'uniform', 0, 1)\n",
    "t2 = Prior('t2', 'uniform', 0, 1)\n",
    "Y = Simulator('MA2', simulator, t1, t2, observed=y)\n",
    "S1 = Summary('S1', ac1, Y)\n",
    "S2 = Summary('S2', ac2, Y)\n",
    "d = Discrepancy('d', distance, S1, S2)"
   ]
  },
  {
   "cell_type": "code",
   "execution_count": null,
   "metadata": {
    "collapsed": false
   },
   "outputs": [],
   "source": [
    "from abcpy.visualization import draw_model\n",
    "draw_model(d)"
   ]
  },
  {
   "cell_type": "code",
   "execution_count": null,
   "metadata": {
    "collapsed": false
   },
   "outputs": [],
   "source": [
    "# Specify the number of simulations and set up rejection sampling\n",
    "N = 10000\n",
    "rej = Rejection(N, d, [t1, t2], 10000)"
   ]
  },
  {
   "cell_type": "code",
   "execution_count": null,
   "metadata": {
    "collapsed": false
   },
   "outputs": [],
   "source": [
    "# Time and run the simulator in parallel\n",
    "s = time.time()\n",
    "result = rej.infer(quantile=0.01)\n",
    "[t1_post, t2_post] = result['posteriors']\n",
    "print(\"Elapsed time %d sec\" % (time.time() - s))\n",
    "print(\"Number of accepted samples %d\" % len(t1_post))"
   ]
  },
  {
   "cell_type": "code",
   "execution_count": null,
   "metadata": {
    "collapsed": false
   },
   "outputs": [],
   "source": [
    "if len(t1_post) > 0:\n",
    "    print(\"Posterior for t1\")\n",
    "    plt.hist(t1_post, bins=20)\n",
    "else:\n",
    "    print(\"No accepted samples\")"
   ]
  },
  {
   "cell_type": "code",
   "execution_count": null,
   "metadata": {
    "collapsed": false
   },
   "outputs": [],
   "source": [
    "if len(t2_post) > 0:\n",
    "    print(\"Posterior for t2\")\n",
    "    plt.hist(t2_post, bins=20)\n",
    "else:\n",
    "    print(\"No accepted samples\")"
   ]
  },
  {
   "cell_type": "code",
   "execution_count": null,
   "metadata": {
    "collapsed": true
   },
   "outputs": [],
   "source": []
  }
 ],
 "metadata": {
  "anaconda-cloud": {},
  "kernelspec": {
   "display_name": "Python [Root]",
   "language": "python",
   "name": "Python [Root]"
  },
  "language_info": {
   "codemirror_mode": {
    "name": "ipython",
    "version": 3
   },
   "file_extension": ".py",
   "mimetype": "text/x-python",
   "name": "python",
   "nbconvert_exporter": "python",
   "pygments_lexer": "ipython3",
   "version": "3.5.2"
  }
 },
 "nbformat": 4,
 "nbformat_minor": 1
}
