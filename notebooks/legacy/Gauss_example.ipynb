{
 "cells": [
  {
   "cell_type": "code",
   "execution_count": null,
   "metadata": {
    "collapsed": false
   },
   "outputs": [],
   "source": [
    "import sys\n",
    "# Assuming we are in the notebook directory add this so that we can import the library\n",
    "sys.path.append('..')\n",
    "\n",
    "import numpy as np\n",
    "from elfi import *\n",
    "import matplotlib\n",
    "import matplotlib.pyplot as plt\n",
    "\n",
    "matplotlib.style.use('ggplot')\n",
    "%matplotlib inline"
   ]
  },
  {
   "cell_type": "code",
   "execution_count": null,
   "metadata": {
    "collapsed": false
   },
   "outputs": [],
   "source": [
    "n = 1000\n",
    "mu = 1.6\n",
    "\n",
    "# Set up some observed data y\n",
    "y = mu + np.random.randn(n)\n",
    "\n",
    "# Plot\n",
    "plt.hist(y);"
   ]
  },
  {
   "cell_type": "code",
   "execution_count": null,
   "metadata": {
    "collapsed": false
   },
   "outputs": [],
   "source": [
    "def mean(y):\n",
    "    mu = np.mean(y, axis=1, keepdims=True)\n",
    "    return mu\n",
    "\n",
    "def distance(x, y):\n",
    "    d = np.linalg.norm( np.array(x) - np.array(y), ord=2, axis=0)\n",
    "    return d"
   ]
  },
  {
   "cell_type": "code",
   "execution_count": null,
   "metadata": {
    "collapsed": false
   },
   "outputs": [],
   "source": [
    "# Specify the graphical model\n",
    "mu = Prior('mu', 'uniform', 0, 4)\n",
    "Y = Model('Y', 'normal', mu, observed=y)\n",
    "S1 = Summary('S1', mean, Y)\n",
    "d = Discrepancy('d', distance, S1)\n",
    "\n",
    "# Specify the number of simulations and set up rejection sampling\n",
    "N = 10000\n",
    "rej = Rejection(d, [mu], 10000)"
   ]
  },
  {
   "cell_type": "code",
   "execution_count": null,
   "metadata": {
    "collapsed": false
   },
   "outputs": [],
   "source": [
    "# Time and run parallel\n",
    "%time result = rej.sample(N, quantile=0.1)\n",
    "mu_post = result['samples'][0]\n",
    "\n",
    "print(\"Samples: {} ({:.2f}%)\".format(len(mu_post), len(mu_post)/N*100))\n",
    "print(\"Threshold: {:.2f}\".format(result['threshold']))\n",
    "print(\"Posterior mean: {:.2f}\".format(mu_post.mean()))"
   ]
  },
  {
   "cell_type": "code",
   "execution_count": null,
   "metadata": {
    "collapsed": false
   },
   "outputs": [],
   "source": [
    "# Changing the threshold doesn't require further sampling.\n",
    "%time result = rej.sample(N, threshold=0.01)\n",
    "mu_post2 = result['samples'][0]\n",
    "\n",
    "print(\"Samples: {} ({:.2f}%)\".format(len(mu_post2), len(mu_post2)/N*100))\n",
    "print(\"Threshold: {:.2f}\".format(result['threshold']))\n",
    "print(\"Posterior mean: {:.2f}\".format(mu_post2.mean()))"
   ]
  },
  {
   "cell_type": "code",
   "execution_count": null,
   "metadata": {
    "collapsed": false
   },
   "outputs": [],
   "source": [
    "if len(mu_post) > 0:\n",
    "    plt.hist(mu_post, bins=20)\n",
    "    plt.xlim(0, 4)\n",
    "    plt.title(\"Posterior for $\\mu$\")\n",
    "else:\n",
    "    print(\"No accepted samples\")"
   ]
  }
 ],
 "metadata": {
  "anaconda-cloud": {},
  "kernelspec": {
   "display_name": "Python 3",
   "language": "python",
   "name": "python3"
  },
  "language_info": {
   "codemirror_mode": {
    "name": "python3",
    "version": 3
   },
   "file_extension": ".py",
   "mimetype": "text/x-python",
   "name": "python3",
   "nbconvert_exporter": "python",
   "pygments_lexer": "ipython3",
   "version": ""
  }
 },
 "nbformat": 4,
 "nbformat_minor": 1
}
