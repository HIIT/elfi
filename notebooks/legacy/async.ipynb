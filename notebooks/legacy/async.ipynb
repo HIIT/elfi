{
 "cells": [
  {
   "cell_type": "code",
   "execution_count": null,
   "metadata": {
    "collapsed": false
   },
   "outputs": [],
   "source": [
    "import sys\n",
    "# Assuming we are in the notebook directory add this so that we can import the library\n",
    "sys.path.append('..')\n",
    "\n",
    "import time\n",
    "\n",
    "import numpy as np\n",
    "import dask\n",
    "from elfi import *\n",
    "from elfi.async import wait\n",
    "from elfi.examples.ma2 import MA2, autocov, distance\n",
    "from distributed import Client\n",
    "from dask.dot import dot_graph\n",
    "from functools import partial\n",
    "\n",
    "import matplotlib\n",
    "import matplotlib.pyplot as plt\n",
    "\n",
    "matplotlib.style.use(\"ggplot\")\n",
    "%matplotlib inline\n"
   ]
  },
  {
   "cell_type": "code",
   "execution_count": null,
   "metadata": {
    "collapsed": false
   },
   "outputs": [],
   "source": [
    "# Setup disributed\n",
    "client = Client()\n",
    "dask.set_options(get=client.get)"
   ]
  },
  {
   "cell_type": "code",
   "execution_count": null,
   "metadata": {
    "collapsed": false
   },
   "outputs": [],
   "source": [
    "n = 100\n",
    "t1 = 0.6\n",
    "t2 = 0.2\n",
    "\n",
    "# Set up observed data y\n",
    "latents = np.random.randn(n+2)\n",
    "y = MA2(n, t1, t2, n_sim=1, latents=latents)"
   ]
  },
  {
   "cell_type": "code",
   "execution_count": null,
   "metadata": {
    "collapsed": true
   },
   "outputs": [],
   "source": [
    "# Set up the simulator\n",
    "simulator = partial(MA2, n)\n",
    "\n",
    "# Set up autocovariance summaries\n",
    "ac1 = partial(autocov, 1)\n",
    "ac2 = partial(autocov, 2)\n",
    "\n",
    "# Specify the graphical model\n",
    "t1 = Prior(\"t1\", \"uniform\", 0, 1)\n",
    "t2 = Prior('t2', \"uniform\", 0, 1)\n",
    "Y = Simulator(\"MA2\", simulator, t1, t2, observed=y)\n",
    "S1 = Summary(\"S1\", ac1, Y)\n",
    "S2 = Summary(\"S2\", ac2, Y)\n",
    "d = Discrepancy(\"d\", distance, S1, S2)"
   ]
  },
  {
   "cell_type": "code",
   "execution_count": null,
   "metadata": {
    "collapsed": false
   },
   "outputs": [],
   "source": [
    "dists = [d.generate(1, with_values={\"a\": 2}) for i in range(4)]\n",
    "async_dists = dists\n",
    "\n",
    "while len(async_dists) > 0:\n",
    "    r, i, async_dists = wait(async_dists, client)\n",
    "    print(\"%f in %d\" % (r, i))\n",
    "\n",
    "print(\"\\nResults computed at once:\")\n",
    "res = client.compute(dists, sync=True)\n",
    "print(res)"
   ]
  }
 ],
 "metadata": {
  "anaconda-cloud": {},
  "kernelspec": {
   "display_name": "Python 3",
   "language": "python",
   "name": "Python [Root]"
  },
  "language_info": {
   "codemirror_mode": {
    "name": "ipython",
    "version": 3
   },
   "file_extension": ".py",
   "mimetype": "text/x-python",
   "name": "python",
   "nbconvert_exporter": "python",
   "pygments_lexer": "ipython3",
   "version": "3.4.3"
  }
 },
 "nbformat": 4,
 "nbformat_minor": 1
}
