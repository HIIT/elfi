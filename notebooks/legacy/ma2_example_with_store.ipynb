{
 "cells": [
  {
   "cell_type": "code",
   "execution_count": null,
   "metadata": {
    "collapsed": false
   },
   "outputs": [],
   "source": [
    "import sys\n",
    "# Assuming we are in the notebook directory add this so that we can import the library\n",
    "sys.path.append('..')\n",
    "\n",
    "import numpy as np\n",
    "import elfi\n",
    "import elfi.examples.ma2 as elfi_examples\n",
    "from elfi import LocalDataStore\n",
    "from elfi.storage import UnQLiteStore\n",
    "from functools import partial\n",
    "\n",
    "import matplotlib\n",
    "import matplotlib.pyplot as plt\n",
    "\n",
    "matplotlib.style.use('ggplot')\n",
    "%matplotlib inline"
   ]
  },
  {
   "cell_type": "code",
   "execution_count": null,
   "metadata": {
    "collapsed": false,
    "scrolled": true
   },
   "outputs": [],
   "source": [
    "n = 100\n",
    "t1_0 = 0.6\n",
    "t2_0 = 0.2\n",
    "\n",
    "# Set up observed data y\n",
    "latents = np.random.randn(n+2)\n",
    "y = elfi_examples.MA2(n, t1_0, t2_0, n_sim=1, latents=latents)\n",
    "\n",
    "# Plot\n",
    "plt.figure(figsize=(11, 6));\n",
    "plt.plot(np.arange(0,n),y[0,:]);\n",
    "plt.scatter(np.arange(-2,n), latents);"
   ]
  },
  {
   "cell_type": "code",
   "execution_count": null,
   "metadata": {
    "collapsed": false
   },
   "outputs": [],
   "source": [
    "# Set up the simulator\n",
    "simulator = partial(elfi_examples.MA2, n)\n",
    "\n",
    "# Set up autocovariance summaries\n",
    "ac1 = partial(elfi_examples.autocov, 1)\n",
    "ac2 = partial(elfi_examples.autocov, 2)\n",
    "\n",
    "# Number of samples (n_samples is the number of samples we want to accept)\n",
    "n_samples = 100\n",
    "quantile = 0.01\n",
    "max_samples = int(n_samples / 0.01)+1\n",
    "batch_size = 100\n",
    "\n",
    "# Different types of storage objects:\n",
    "# numpy array storage\n",
    "store_array = np.zeros((2, max_samples,1))\n",
    "object_store = LocalDataStore(store_array[0])\n",
    "# NoSQL database (in-memory, but could also be a file)\n",
    "# Results are saved to collection matching node name\n",
    "nosql_store = UnQLiteStore()\n",
    "\n",
    "# Specify the graphical model and which nodes are persisted where\n",
    "t1 = elfi.Prior('t1', 'uniform', 0, 1, store=nosql_store) # LocalElfiStore object (database)\n",
    "t2 = elfi.Prior('t2', 'uniform', 0, 1, store=nosql_store) # LocalElfiStore object (database)\n",
    "Y = elfi.Simulator('MA2', simulator, t1, t2, observed=y, store=nosql_store) # LocalElfiStore object (database)\n",
    "S2 = elfi.Summary('S1', ac1, Y, store=object_store)  # LocalElfiStore object (numpy array)\n",
    "S1 = elfi.Summary('S2', ac2, Y, store=store_array[1])  # Storage object\n",
    "d = elfi.Discrepancy('d', elfi_examples.distance, S1, S2, store=\"cache\")  # Stored within the Node\n",
    "\n",
    "# Set up rejection sampling\n",
    "rej = elfi.Rejection(d, [t1, t2], batch_size=batch_size)"
   ]
  },
  {
   "cell_type": "code",
   "execution_count": null,
   "metadata": {
    "collapsed": false
   },
   "outputs": [],
   "source": [
    "# Time and run the simulator in parallel\n",
    "%time result = rej.sample(n_samples, quantile=0.01)"
   ]
  },
  {
   "cell_type": "code",
   "execution_count": null,
   "metadata": {
    "collapsed": false
   },
   "outputs": [],
   "source": [
    "# Run again, but this time we are able to use the cached results\n",
    "%time result = rej.sample(n_samples, quantile=0.01)"
   ]
  },
  {
   "cell_type": "code",
   "execution_count": null,
   "metadata": {
    "collapsed": false
   },
   "outputs": [],
   "source": [
    "[t1_post, t2_post] = result['samples']\n",
    "print(\"Number of accepted samples {} with threshold {:.2f}\".format(len(t1_post), result['threshold']))\n",
    "print(\"Posterior means: {:.2f} {:.2f}\".format(t1_post.mean(), t2_post.mean()))"
   ]
  },
  {
   "cell_type": "code",
   "execution_count": null,
   "metadata": {
    "collapsed": false
   },
   "outputs": [],
   "source": [
    "fig, ax = plt.subplots(ncols=2, figsize=(14,5));\n",
    "ax[0].hist(t1_post, bins=20);\n",
    "ax[0].set_title(\"Posterior for t1\");\n",
    "ax[1].hist(t2_post, bins=20);\n",
    "ax[1].set_title(\"Posterior for t2\");"
   ]
  },
  {
   "cell_type": "code",
   "execution_count": null,
   "metadata": {
    "collapsed": false
   },
   "outputs": [],
   "source": [
    "# Simulation results were stored in nosql_store\n",
    "data = nosql_store.get('MA2', slice(0,10))\n",
    "plt.figure(figsize=(11, 6));\n",
    "for di in data:\n",
    "    plt.plot(np.arange(0,n),di);"
   ]
  },
  {
   "cell_type": "code",
   "execution_count": null,
   "metadata": {
    "collapsed": false
   },
   "outputs": [],
   "source": [
    "# Priors were stored in nosql_store\n",
    "data1 = nosql_store.get('t1', slice(0,1000))\n",
    "data2 = nosql_store.get('t2', slice(0,1000))\n",
    "plt.figure(figsize=(6, 6));\n",
    "plt.scatter(data1, data2);"
   ]
  },
  {
   "cell_type": "code",
   "execution_count": null,
   "metadata": {
    "collapsed": false
   },
   "outputs": [],
   "source": [
    "# Cached results are within the Nodes\n",
    "data3 = d.acquire(1000).compute()\n",
    "plt.figure(figsize=(6, 6));\n",
    "plt.hist(data3);"
   ]
  },
  {
   "cell_type": "code",
   "execution_count": null,
   "metadata": {
    "collapsed": false
   },
   "outputs": [],
   "source": [
    "# Summaries were stored in store_array\n",
    "fig, ax = plt.subplots(ncols=2, figsize=(14,5));\n",
    "ax[0].hist(store_array[0], bins=20);\n",
    "ax[0].set_title(\"Summary 1\");\n",
    "ax[1].hist(store_array[1], bins=20);\n",
    "ax[1].set_title(\"Summary 2\");"
   ]
  }
 ],
 "metadata": {
  "anaconda-cloud": {},
  "kernelspec": {
   "display_name": "Python 3",
   "language": "python",
   "name": "python3"
  },
  "language_info": {
   "codemirror_mode": {
    "name": "python3",
    "version": 3
   },
   "file_extension": ".py",
   "mimetype": "text/x-python",
   "name": "python3",
   "nbconvert_exporter": "python",
   "pygments_lexer": "ipython3",
   "version": ""
  }
 },
 "nbformat": 4,
 "nbformat_minor": 1
}
