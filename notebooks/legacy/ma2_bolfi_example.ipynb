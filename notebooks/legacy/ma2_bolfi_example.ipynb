{
 "cells": [
  {
   "cell_type": "code",
   "execution_count": null,
   "metadata": {
    "collapsed": false
   },
   "outputs": [],
   "source": [
    "import sys\n",
    "# Assuming we are in the notebook directory add this so that we can import the library\n",
    "sys.path.append('..')\n",
    "\n",
    "import time\n",
    "\n",
    "import numpy as np\n",
    "import dask\n",
    "import GPy\n",
    "from elfi import *\n",
    "from elfi.examples.ma2 import *\n",
    "from elfi.storage import DictListStore\n",
    "from distributed import Client\n",
    "from dask.dot import dot_graph\n",
    "from functools import partial\n",
    "\n",
    "import matplotlib\n",
    "import matplotlib.pyplot as plt\n",
    "\n",
    "#matplotlib.style.use('ggplot')\n",
    "#%matplotlib inline\n",
    "\n",
    "import logging\n",
    "elfi_log = logging.getLogger(\"elfi\")\n",
    "elfi_log.setLevel(20)\n",
    "elfi_log.propagate = False\n",
    "ch = logging.StreamHandler(sys.stdout)\n",
    "ch.setLevel(logging.INFO)\n",
    "formatter = logging.Formatter('%(levelname)s - %(message)s')\n",
    "ch.setFormatter(formatter)\n",
    "elfi_log.addHandler(ch)"
   ]
  },
  {
   "cell_type": "code",
   "execution_count": null,
   "metadata": {
    "collapsed": false
   },
   "outputs": [],
   "source": [
    "n = 1000\n",
    "t1 = 0.6\n",
    "t2 = 0.2\n",
    "\n",
    "# Set up observed data y\n",
    "latents = np.random.randn(n+2)\n",
    "n_sim = 1\n",
    "y = MA2(n, t1, t2, n_sim, latents=latents)\n",
    "\n",
    "# Plot\n",
    "if False:\n",
    "    plt.figure(figsize=(11, 6))\n",
    "    plt.plot(np.arange(0,n),y[0,:])\n",
    "    plt.scatter(np.arange(-2,n), latents);"
   ]
  },
  {
   "cell_type": "code",
   "execution_count": null,
   "metadata": {
    "collapsed": true
   },
   "outputs": [],
   "source": [
    "# Set up the simulator\n",
    "simulator = partial(MA2, n)\n",
    "\n",
    "# Set up autocovariance summaries\n",
    "ac1 = partial(autocov, 1)\n",
    "ac2 = partial(autocov, 2)\n",
    "\n",
    "# Specify the graphical model\n",
    "t1 = Prior('t1', 'uniform', 0, 1)\n",
    "#t2 = Prior('t2', 'uniform', 0, 1)\n",
    "Y = Simulator('MA2', simulator, t1, t2, observed=y)\n",
    "S1 = Summary('S1', ac1, Y)\n",
    "S2 = Summary('S2', ac2, Y)\n",
    "d = Discrepancy('d', distance, S1, S2)\n",
    "\n",
    "# Specify the number of simulations\n",
    "n_sim = 60\n",
    "n_batch = 4"
   ]
  },
  {
   "cell_type": "code",
   "execution_count": null,
   "metadata": {
    "collapsed": true
   },
   "outputs": [],
   "source": [
    "# Used for inspecting inference process\n",
    "def plot_bolfi_process(store):\n",
    "    fig = plt.figure(figsize=(5, 10))\n",
    "    t = (2,5,10,20,60)\n",
    "    n_fig = len(t)\n",
    "    for i in range(n_fig):\n",
    "        ax = fig.add_subplot(n_fig,1,i+1)\n",
    "        f = store.get(\"BOLFI-model\", t[i])[0].gp.plot(ax=ax)\n",
    "        ax.legend_.remove()\n",
    "        ax.set_title(\"Discrepancy model after {} samples\".format(t[i]))\n",
    "        ax.set_xlim(0, 1)\n",
    "        GPy.plotting.show(f)\n",
    "    plt.tight_layout()\n",
    "    plt.show()"
   ]
  },
  {
   "cell_type": "code",
   "execution_count": null,
   "metadata": {
    "collapsed": false,
    "scrolled": true
   },
   "outputs": [],
   "source": [
    "store = DictListStore()\n",
    "gp_model = GPyModel(input_dim=1, bounds=((0,1),), kernel_var=0.3, kernel_scale=0.2, noise_var=0.01)\n",
    "bolfi = BOLFI(d, [t1], batch_size=n_batch, n_surrogate_samples=n_sim, model=gp_model, store=store)\n",
    "post = bolfi.infer()\n",
    "fig = bolfi.model.gp.plot()\n",
    "GPy.plotting.show(fig)\n",
    "post.plot()"
   ]
  },
  {
   "cell_type": "code",
   "execution_count": null,
   "metadata": {
    "collapsed": false
   },
   "outputs": [],
   "source": [
    "plot_bolfi_process(store)"
   ]
  },
  {
   "cell_type": "code",
   "execution_count": null,
   "metadata": {
    "collapsed": false
   },
   "outputs": [],
   "source": [
    "store = DictListStore()\n",
    "gp_model = GPyModel(input_dim=1, bounds=((0,1),), kernel_var=0.3, kernel_scale=0.2, noise_var=0.01)\n",
    "acq = AsyncBolfiAcquisition(model=gp_model, n_samples=n_sim, rbf_scale=0.1)\n",
    "async_bolfi = BOLFI(d, [t1], batch_size=n_batch, model=gp_model, acquisition=acq, store=store, sync=False)\n",
    "async_post = async_bolfi.infer()\n",
    "fig = async_bolfi.model.gp.plot()\n",
    "GPy.plotting.show(fig)\n",
    "async_post.plot()"
   ]
  },
  {
   "cell_type": "code",
   "execution_count": null,
   "metadata": {
    "collapsed": false
   },
   "outputs": [],
   "source": [
    "plot_bolfi_process(store)"
   ]
  },
  {
   "cell_type": "code",
   "execution_count": null,
   "metadata": {
    "collapsed": false
   },
   "outputs": [],
   "source": [
    "from IPython.display import display\n",
    "display(bolfi.model.gp)\n",
    "display(async_bolfi.model.gp)"
   ]
  }
 ],
 "metadata": {
  "anaconda-cloud": {},
  "kernelspec": {
   "display_name": "Python 3",
   "language": "python",
   "name": "Python [Root]"
  },
  "language_info": {
   "codemirror_mode": {
    "name": "ipython",
    "version": 3
   },
   "file_extension": ".py",
   "mimetype": "text/x-python",
   "name": "python",
   "nbconvert_exporter": "python",
   "pygments_lexer": "ipython3",
   "version": "3.4.3"
  }
 },
 "nbformat": 4,
 "nbformat_minor": 1
}
