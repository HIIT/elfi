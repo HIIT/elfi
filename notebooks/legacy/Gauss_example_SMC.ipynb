{
 "cells": [
  {
   "cell_type": "code",
   "execution_count": null,
   "metadata": {
    "collapsed": false
   },
   "outputs": [],
   "source": [
    "import sys\n",
    "# Assuming we are in the notebook directory add this so that we can import the library\n",
    "sys.path.append('..')\n",
    "\n",
    "import numpy as np\n",
    "from elfi import *\n",
    "from functools import partial\n",
    "import scipy.stats as ss\n",
    "\n",
    "import matplotlib\n",
    "import matplotlib.pyplot as plt\n",
    "\n",
    "matplotlib.style.use('ggplot')\n",
    "%matplotlib inline"
   ]
  },
  {
   "cell_type": "code",
   "execution_count": null,
   "metadata": {
    "collapsed": false
   },
   "outputs": [],
   "source": [
    "def mean(y):\n",
    "    mu = np.mean(y, axis=1, keepdims=True)\n",
    "    return mu\n",
    "\n",
    "def distance(x, y):\n",
    "    d = np.linalg.norm( np.array(x) - np.array(y), ord=2, axis=0)\n",
    "    return d"
   ]
  },
  {
   "cell_type": "code",
   "execution_count": null,
   "metadata": {
    "collapsed": false
   },
   "outputs": [],
   "source": [
    "n = 100\n",
    "mu = 1.6\n",
    "\n",
    "# Set up observed data y\n",
    "y = mu + np.random.randn(n)\n",
    "\n",
    "# Plot\n",
    "plt.hist(y, bins=20);"
   ]
  },
  {
   "cell_type": "code",
   "execution_count": null,
   "metadata": {
    "collapsed": false
   },
   "outputs": [],
   "source": [
    "# Specify the graphical model\n",
    "mu = Prior('mu', ss.uniform, -3, 10)\n",
    "Y = Model('Y', 'normal', mu, observed=y)\n",
    "S1 = Summary('S1', mean, Y)\n",
    "d = Discrepancy('d', distance, S1)\n",
    "\n",
    "# Specify the number of simulations and set up rejection sampling\n",
    "N = 1000\n",
    "smc = SMC(d, [mu], 10000)\n",
    "n_populations = 4"
   ]
  },
  {
   "cell_type": "code",
   "execution_count": null,
   "metadata": {
    "collapsed": false
   },
   "outputs": [],
   "source": [
    "%time result = smc.sample(N, n_populations, [0.1, 0.1, 0.1, 0.1])\n",
    "mu_post = result['samples'][0]\n",
    "\n",
    "print(\"Samples: {} ({:.2f}%)\".format(len(mu_post), len(mu_post)/N*100))"
   ]
  },
  {
   "cell_type": "code",
   "execution_count": null,
   "metadata": {
    "collapsed": false
   },
   "outputs": [],
   "source": [
    "fig, ax = plt.subplots(ncols=n_populations, sharex=True, sharey=True, figsize=(16,6))\n",
    "for ii in range(n_populations-1):\n",
    "    ax[ii].hist(result['samples_history'][ii], bins=20)\n",
    "    ax[ii].set_title(\"Population {}\".format(ii+1))\n",
    "ax[n_populations-1].hist(mu_post, bins=20)\n",
    "ax[n_populations-1].set_title(\"Population {}\".format(n_populations))"
   ]
  },
  {
   "cell_type": "code",
   "execution_count": null,
   "metadata": {
    "collapsed": false
   },
   "outputs": [],
   "source": []
  }
 ],
 "metadata": {
  "anaconda-cloud": {},
  "kernelspec": {
   "display_name": "Python 3",
   "language": "python",
   "name": "python3"
  },
  "language_info": {
   "codemirror_mode": {
    "name": "python3",
    "version": 3
   },
   "file_extension": ".py",
   "mimetype": "text/x-python",
   "name": "python3",
   "nbconvert_exporter": "python",
   "pygments_lexer": "ipython3",
   "version": ""
  }
 },
 "nbformat": 4,
 "nbformat_minor": 1
}
