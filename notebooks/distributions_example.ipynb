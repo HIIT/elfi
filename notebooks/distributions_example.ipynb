{
 "cells": [
  {
   "cell_type": "code",
   "execution_count": 1,
   "metadata": {
    "collapsed": false
   },
   "outputs": [],
   "source": [
    "import sys\n",
    "# Assuming we are in the notebook directory add this so that we can import the library\n",
    "sys.path.append('..')\n",
    "\n",
    "import time\n",
    "\n",
    "import numpy as np\n",
    "from abcpy.distributions import *\n",
    "import scipy.stats as ss\n",
    "import matplotlib\n",
    "import matplotlib.pyplot as plt\n",
    "\n",
    "matplotlib.style.use('ggplot')\n",
    "%matplotlib inline"
   ]
  },
  {
   "cell_type": "code",
   "execution_count": 2,
   "metadata": {
    "collapsed": false
   },
   "outputs": [
    {
     "name": "stdout",
     "output_type": "stream",
     "text": [
      "op functools.partial(<function npr_op at 0x1172d4e18>, 'uniform', (1,))\n"
     ]
    }
   ],
   "source": [
    "mu = Prior('mu', 'uniform', 0, 1)\n",
    "mu2 = ScipyPrior('mu', ss.uniform, 0, 1)"
   ]
  },
  {
   "cell_type": "code",
   "execution_count": 3,
   "metadata": {
    "collapsed": false
   },
   "outputs": [
    {
     "name": "stdout",
     "output_type": "stream",
     "text": [
      "size (1,)\n",
      "size (10, 1)\n",
      "data [[ 0.5488135 ]\n",
      " [ 0.71518937]\n",
      " [ 0.60276338]\n",
      " [ 0.54488318]\n",
      " [ 0.4236548 ]\n",
      " [ 0.64589411]\n",
      " [ 0.43758721]\n",
      " [ 0.891773  ]\n",
      " [ 0.96366276]\n",
      " [ 0.38344152]]\n"
     ]
    },
    {
     "data": {
      "text/plain": [
       "array([[ 0.5488135 ],\n",
       "       [ 0.71518937],\n",
       "       [ 0.60276338],\n",
       "       [ 0.54488318],\n",
       "       [ 0.4236548 ],\n",
       "       [ 0.64589411],\n",
       "       [ 0.43758721],\n",
       "       [ 0.891773  ],\n",
       "       [ 0.96366276],\n",
       "       [ 0.38344152]])"
      ]
     },
     "execution_count": 3,
     "metadata": {},
     "output_type": "execute_result"
    }
   ],
   "source": [
    "mu.generate(10).compute()"
   ]
  },
  {
   "cell_type": "code",
   "execution_count": null,
   "metadata": {
    "collapsed": true
   },
   "outputs": [],
   "source": [
    "mu2.generate(10).compute()"
   ]
  }
 ],
 "metadata": {
  "kernelspec": {
   "display_name": "Python [Root]",
   "language": "python",
   "name": "Python [Root]"
  },
  "language_info": {
   "codemirror_mode": {
    "name": "ipython",
    "version": 3
   },
   "file_extension": ".py",
   "mimetype": "text/x-python",
   "name": "python",
   "nbconvert_exporter": "python",
   "pygments_lexer": "ipython3",
   "version": "3.5.2"
  }
 },
 "nbformat": 4,
 "nbformat_minor": 0
}
